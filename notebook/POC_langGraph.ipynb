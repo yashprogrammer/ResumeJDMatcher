{
 "cells": [
  {
   "cell_type": "code",
   "execution_count": 1,
   "id": "5c032cba",
   "metadata": {},
   "outputs": [],
   "source": [
    "import os \n",
    "import asyncio\n",
    "import shutil\n",
    "from dotenv import load_dotenv\n",
    "from langchain_groq import ChatGroq\n",
    "from langchain_openai import ChatOpenAI\n",
    "\n",
    "\n",
    "load_dotenv()\n",
    "os.environ[\"GROQ_API_KEY\"]=os.getenv(\"GROQ_API_KEY\")\n",
    "os.environ[\"OPENAI_API_KEY\"]=os.getenv(\"OPENAI_API_KEY\")\n",
    "os.environ[\"GOOGLE_API_KEY\"]=os.getenv(\"GOOGLE_API_KEY\")\n",
    "\n",
    "llm = ChatGroq(model=\"deepseek-r1-distill-llama-70b\", max_tokens=2000, temperature=0)\n",
    "llm2 = ChatOpenAI(model=\"gpt-4o\", temperature=0,max_tokens=2000)"
   ]
  },
  {
   "cell_type": "code",
   "execution_count": 2,
   "id": "2000ee6d",
   "metadata": {},
   "outputs": [],
   "source": [
    "from typing import Optional, TypedDict, List\n",
    "from pydantic import BaseModel, Field\n",
    "from langchain_google_genai import GoogleGenerativeAIEmbeddings\n",
    "\n",
    "\n",
    "embedding_model=GoogleGenerativeAIEmbeddings(model=\"models/embedding-001\")\n",
    "\n",
    "from langchain.schema import Document\n",
    "from langchain.vectorstores import Chroma"
   ]
  },
  {
   "cell_type": "code",
   "execution_count": 3,
   "id": "51f12627",
   "metadata": {},
   "outputs": [
    {
     "name": "stderr",
     "output_type": "stream",
     "text": [
      "/var/folders/d_/rqsk7t093dlg0nzx8rc5n4fh0000gn/T/ipykernel_40703/2185028648.py:1: LangChainDeprecationWarning: The class `Chroma` was deprecated in LangChain 0.2.9 and will be removed in 1.0. An updated version of the class exists in the :class:`~langchain-chroma package and should be used instead. To use it run `pip install -U :class:`~langchain-chroma` and import as `from :class:`~langchain_chroma import Chroma``.\n",
      "  vectorstore = Chroma(\n"
     ]
    }
   ],
   "source": [
    "\n",
    "vectorstore = Chroma(\n",
    "    collection_name=\"resume_collection\",\n",
    "    embedding_function=embedding_model,\n",
    "    persist_directory=\"./chromaDB\"\n",
    "    )\n"
   ]
  },
  {
   "cell_type": "code",
   "execution_count": 4,
   "id": "27e589e2",
   "metadata": {},
   "outputs": [],
   "source": [
    "class email(BaseModel):\n",
    "    ar_requestor: str\n",
    "    recruiter : str"
   ]
  },
  {
   "cell_type": "code",
   "execution_count": 5,
   "id": "5d7372f8",
   "metadata": {},
   "outputs": [],
   "source": [
    "class State(TypedDict):\n",
    "    resumes_dir_path: str\n",
    "    jd: str\n",
    "    text_resumes: List[str]  # List of text representations of resumes\n",
    "    matched_resumes: List  # List of Document objects from vector store\n",
    "    ranked_resumes: List  # List of Document objects ranked by relevance\n",
    "    no_match: bool\n",
    "    emails: Optional[email]  # Made optional and fixed typo"
   ]
  },
  {
   "cell_type": "code",
   "execution_count": 6,
   "id": "cb8d6a0d",
   "metadata": {},
   "outputs": [],
   "source": [
    "from langchain_core.messages import HumanMessage, SystemMessage\n"
   ]
  },
  {
   "cell_type": "code",
   "execution_count": 7,
   "id": "114b5b58",
   "metadata": {},
   "outputs": [],
   "source": [
    "os.environ[\"LLAMA_CLOUD_API_KEY\"] = os.getenv(\"LLAMA_CLOUD_API_KEY\")"
   ]
  },
  {
   "cell_type": "code",
   "execution_count": 8,
   "id": "2f5c0b15",
   "metadata": {},
   "outputs": [],
   "source": [
    "from llama_cloud_services import LlamaExtract\n",
    "from llama_cloud_services.extract import SourceText\n",
    "\n",
    "\n",
    "\n",
    "extractor = LlamaExtract()\n",
    "\n",
    "class Resume(BaseModel):\n",
    "    name: str = Field(description=\"Full name of candidate\")\n",
    "    email: str = Field(description=\"Email address\")\n",
    "    skills: list[str] = Field(description=\"Technical skills and technologies\")\n",
    "    work_experience: list[str] = Field(description=\"Work experience details\")\n",
    "    education: str = Field(description=\"Educational background\")\n",
    "    projects: list[str] = Field(description=\"Projects worked on\")\n",
    "\n",
    "\n",
    "class RankedResumes(BaseModel):\n",
    "    ranked_resumes: List[Resume] = Field(description=\"List of resumes ranked by relevance to the job description\")\n"
   ]
  },
  {
   "cell_type": "code",
   "execution_count": 9,
   "id": "57243020",
   "metadata": {},
   "outputs": [],
   "source": [
    "class RankedResumes(BaseModel):\n",
    "    ranked_resumes: List[Resume] = Field(description=\"List of resumes ranked by relevance to the job description\")\n",
    "\n",
    "\n",
    "str_llm = llm.with_structured_output(RankedResumes)\n",
    "str_llm2 = llm2.with_structured_output(RankedResumes)"
   ]
  },
  {
   "cell_type": "code",
   "execution_count": 11,
   "id": "f8ee3cb5",
   "metadata": {},
   "outputs": [],
   "source": [
    "\n",
    "\n",
    "agent = extractor.create_agent(name=\"resume-parser56\", data_schema=Resume)\n",
    "agent2 = extractor.create_agent(name=\"ranked_resumes100\", data_schema=RankedResumes)\n"
   ]
  },
  {
   "cell_type": "code",
   "execution_count": 12,
   "id": "f115ccdb",
   "metadata": {},
   "outputs": [],
   "source": [
    "def resume_to_text(resume):\n",
    "    text = f\"{resume['name']} is a skilled professional.\\n\"\n",
    "    text += f\"Email: {resume['email']}\\n\"\n",
    "    text += f\"Skills: {', '.join(resume['skills'])}\\n\"\n",
    "    \n",
    "    text += \"\\nWork Experience:\\n\"\n",
    "    for exp in resume['work_experience']:\n",
    "        text += f\"- {exp}\\n\"\n",
    "\n",
    "    text += f\"\\nEducation: {resume['education']}\\n\"\n",
    "\n",
    "    text += \"\\nProjects:\\n\"\n",
    "    for proj in resume['projects']:\n",
    "        text += f\"- {proj}\\n\"\n",
    "\n",
    "    return text.strip()"
   ]
  },
  {
   "cell_type": "markdown",
   "id": "3a279295",
   "metadata": {},
   "source": [
    "## Extracting And Storing Resumes in VectorStore"
   ]
  },
  {
   "cell_type": "code",
   "execution_count": 13,
   "id": "14d88ae3",
   "metadata": {},
   "outputs": [],
   "source": [
    "async def extract_and_store_resumes(state: State):\n",
    "    \"Extract the text from resumes and store them in vectorstore\"\n",
    "    resumes_dir_path = state[\"resumes_dir_path\"]\n",
    "    pdf_files = []\n",
    "    for file in os.listdir(resumes_dir_path):\n",
    "        if file.endswith(\".pdf\"):\n",
    "            pdf_files.append(os.path.join(resumes_dir_path, file))\n",
    "\n",
    "    jobs = await agent.queue_extraction(pdf_files)\n",
    "    print(f\"Queued {len(jobs)} extraction jobs\")\n",
    "    \n",
    "    # Wait for all jobs to complete\n",
    "    results = []\n",
    "    for job in jobs:\n",
    "        # Keep checking until the job is complete\n",
    "        while True:\n",
    "            result = agent.get_extraction_run_for_job(job.id)\n",
    "            status = result.status.value\n",
    "            \n",
    "            if status in ['COMPLETED', 'SUCCESS']:  # Handle both possible success statuses\n",
    "                results.append(result)\n",
    "                print(f\"Job {job.id} completed successfully\")\n",
    "                break\n",
    "            elif status == 'FAILED':\n",
    "                print(f\"Job {job.id} failed: {result.error}\")\n",
    "                break\n",
    "            else:\n",
    "                print(f\"Job {job.id} status: {status}, waiting...\")\n",
    "                await asyncio.sleep(2)  # Wait 2 seconds before checking again\n",
    "    \n",
    "    print(f\"All jobs completed. Processing {len(results)} results.\")\n",
    "    resumes = []\n",
    "\n",
    "    for result in results:\n",
    "        if result.data:  # Check if data exists\n",
    "            resume_info = {\n",
    "                'name': result.data[\"name\"],\n",
    "                'email': result.data[\"email\"],\n",
    "                'skills': result.data[\"skills\"],\n",
    "                'work_experience': result.data[\"work_experience\"],\n",
    "                'education': result.data[\"education\"],\n",
    "                'projects': result.data[\"projects\"]\n",
    "            }\n",
    "            resumes.append(resume_info)\n",
    "            \n",
    "        else:\n",
    "            print(f\"Warning: No data found for job {result.job_id}\")\n",
    "    \n",
    "    text_resumes = [resume_to_text(resume) for resume in resumes]\n",
    "\n",
    "\n",
    "\n",
    "    docs = []\n",
    "\n",
    "    for resume in resumes:\n",
    "        text = resume_to_text(resume)\n",
    "        doc = Document(\n",
    "            page_content=text,\n",
    "            metadata={\n",
    "                \"name\": resume[\"name\"],\n",
    "                \"email\": resume[\"email\"],\n",
    "                \"skills\": ', '.join([s.lower().strip() for s in resume[\"skills\"]])\n",
    "            }\n",
    "        )\n",
    "        docs.append(doc)\n",
    "    vectorstore.add_documents(docs)\n",
    "    vectorstore.persist()\n",
    "    \n",
    "    return {\"text_resumes\": text_resumes}"
   ]
  },
  {
   "cell_type": "markdown",
   "id": "9b61a921",
   "metadata": {},
   "source": [
    "## Comparison Agent"
   ]
  },
  {
   "cell_type": "code",
   "execution_count": 14,
   "id": "ea91d029",
   "metadata": {},
   "outputs": [],
   "source": [
    "async def comparison_agent(state: State):\n",
    "    '''This node will compare the JD with resume and give the matching resumes'''\n",
    "\n",
    "    jd_text = state[\"jd\"]\n",
    "\n",
    "\n",
    "    matched_resumes = vectorstore.similarity_search(jd_text, k=3)\n",
    "\n",
    "    return {\"matched_resumes\": matched_resumes}\n",
    "\n",
    "\n",
    "\n"
   ]
  },
  {
   "cell_type": "markdown",
   "id": "9780a530",
   "metadata": {},
   "source": [
    "## Ranking Agent "
   ]
  },
  {
   "cell_type": "code",
   "execution_count": 15,
   "id": "f3db7371",
   "metadata": {},
   "outputs": [],
   "source": [
    "async def ranking_agent(state: State):\n",
    "    '''This node will rank the matched resumes based on their relevance to the JD'''\n",
    "\n",
    "    matched_resumes = state[\"matched_resumes\"]\n",
    "    \n",
    "    if not matched_resumes:\n",
    "        return {\"ranked_resumes\": [], \"no_match\": True}\n",
    "    \n",
    "    # Convert Document objects to a simpler format for ranking\n",
    "    resume_texts = []\n",
    "    for doc in matched_resumes:\n",
    "        resume_info = {\n",
    "            \"name\": doc.metadata.get(\"name\", \"Unknown\"),\n",
    "            \"email\": doc.metadata.get(\"email\", \"Unknown\"),\n",
    "            \"content\": doc.page_content,\n",
    "            \"skills\": doc.metadata.get(\"skills\", \"\")\n",
    "        }\n",
    "        resume_texts.append(resume_info)\n",
    "    \n",
    "    # Create a simpler prompt for ranking without structured output\n",
    "    ranking_prompt = f\"\"\"\n",
    "    Job Description: {state['jd']}\n",
    "    \n",
    "    Please rank the following resumes from most relevant (1) to least relevant based on the job description.\n",
    "    Return only the ranking as a numbered list with name and email.\n",
    "    Return all the resumes in the order of their relevance to the job description.\n",
    "    You must provide me the name, email, skills and work experience of each resume in the ranking list\n",
    "    \n",
    "    Resumes to rank:\n",
    "    \"\"\"\n",
    "    \n",
    "    for i, resume in enumerate(resume_texts, 1):\n",
    "        ranking_prompt += f\"\\n{i}. Name: {resume['name']}\\n   Email: {resume['email']}\\n   Skills: {resume['skills']}\\n   Content: {resume['content'][:500]}...\\n\"\n",
    "    \n",
    "    print(\"calling LLM\")\n",
    "    # Use regular LLM invoke instead of structured output\n",
    "    ranking_response = llm.invoke([\n",
    "        SystemMessage(content=\"You are a recruitment expert. Rank the resumes based on their relevance to the job description.\"),\n",
    "        HumanMessage(content=ranking_prompt)\n",
    "    ])\n",
    "\n",
    "    print(f\"Ranking response: {ranking_response.content}\")\n",
    "    \n",
    "    # For now, return the original matched resumes in order (since vector store already does similarity matching)\n",
    "    # The LLM response can be used for additional insights\n",
    "    ranked_resumes = agent2.extract(SourceText(text_content=ranking_response.content))\n",
    "    \n",
    "    return {\"ranked_resumes\": ranked_resumes.data[\"ranked_resumes\"], \"no_match\": False}"
   ]
  },
  {
   "cell_type": "code",
   "execution_count": 16,
   "id": "2e560959",
   "metadata": {},
   "outputs": [
    {
     "data": {
      "image/png": "[encoded data removed]",
      "text/plain": [
       "<IPython.core.display.Image object>"
      ]
     },
     "metadata": {},
     "output_type": "display_data"
    }
   ],
   "source": [
    "from langgraph.graph import StateGraph, END, START\n",
    "from IPython.display import Image, display\n",
    "\n",
    "flow = StateGraph(State)\n",
    "\n",
    "flow.add_node(\"extract_and_store_resumes\", extract_and_store_resumes)\n",
    "flow.add_node(\"comparison_agent\", comparison_agent)\n",
    "flow.add_node(\"ranking_agent\", ranking_agent)\n",
    "\n",
    "flow.add_edge(START, \"extract_and_store_resumes\")\n",
    "flow.add_edge(\"extract_and_store_resumes\", \"comparison_agent\")\n",
    "flow.add_edge(\"comparison_agent\", \"ranking_agent\")\n",
    "flow.add_edge(\"ranking_agent\", END)\n",
    "\n",
    "chain = flow.compile()\n",
    "display(Image(chain.get_graph().draw_mermaid_png()))\n"
   ]
  },
  {
   "cell_type": "code",
   "execution_count": 17,
   "id": "19e3635d",
   "metadata": {},
   "outputs": [
    {
     "name": "stderr",
     "output_type": "stream",
     "text": [
      "WARNING: All log messages before absl::InitializeLog() is called are written to STDERR\n",
      "I0000 00:00:1753632016.222967 3421331 fork_posix.cc:71] Other threads are currently calling into gRPC, skipping fork() handlers\n",
      "Uploading files: 100%|██████████| 7/7 [00:02<00:00,  2.82it/s]\n",
      "Creating extraction jobs: 100%|██████████| 7/7 [00:18<00:00,  2.59s/it]\n"
     ]
    },
    {
     "name": "stdout",
     "output_type": "stream",
     "text": [
      "Queued 7 extraction jobs\n",
      "Job 9381e628-46fb-4a02-999c-8ba404506b3d completed successfully\n",
      "Job 8416c0fd-f6b5-47db-95d3-cf8528e4e14d completed successfully\n",
      "Job 7af46822-488b-4f41-967f-4c376f2b552f status: PENDING, waiting...\n",
      "Job 7af46822-488b-4f41-967f-4c376f2b552f status: PENDING, waiting...\n",
      "Job 7af46822-488b-4f41-967f-4c376f2b552f completed successfully\n",
      "Job 36ad28b0-9fcd-4423-be89-08f6eb2ad4e8 completed successfully\n",
      "Job e0053f04-5237-4264-835b-1869e4127489 completed successfully\n",
      "Job 6a6b88d7-c488-4f9e-b52d-036743b69a98 completed successfully\n",
      "Job f424573c-2372-4d66-ac71-40c2f163bcc6 completed successfully\n",
      "All jobs completed. Processing 7 results.\n"
     ]
    },
    {
     "name": "stderr",
     "output_type": "stream",
     "text": [
      "/var/folders/d_/rqsk7t093dlg0nzx8rc5n4fh0000gn/T/ipykernel_40703/475922639.py:67: LangChainDeprecationWarning: Since Chroma 0.4.x the manual persistence method is no longer supported as docs are automatically persisted.\n",
      "  vectorstore.persist()\n"
     ]
    },
    {
     "name": "stdout",
     "output_type": "stream",
     "text": [
      "calling LLM\n",
      "Ranking response: <think>\n",
      "Okay, so I need to rank these three resumes based on how well they fit the job description for an HR Generalist position. The job is looking for someone who can handle the full employee lifecycle, including recruitment, onboarding, employee relations, and policy implementation. \n",
      "\n",
      "First, I'll look at each resume one by one. \n",
      "\n",
      "Starting with Bethany Aster. Her skills include PHR certification, which is relevant because it's a recognized HR credential. She also has experience with ATS (Applicant Tracking Systems) like Workday and Jobvite, which are important for recruitment. Her skills in compensation, benefits, payroll, and performance management are all key areas for an HR Generalist. Looking at her work experience, she's been an HR Generalist since 2017, which is a good sign. She's handled recruitment programs and improved hiring practices, which directly relates to the job description. So, she seems like a strong candidate.\n",
      "\n",
      "Next, Kieran Gallagher. His skills are mostly technical: Azure Pipelines, LAMP stack, MySQL, GitLab, etc. These are more related to IT or DevOps roles. His work experience is as a Network Administrator, which doesn't align with HR responsibilities. He's worked on automating processes and deploying virtual machines, which is great for tech roles but not relevant to HR Generalist duties. So, he might be the least relevant.\n",
      "\n",
      "Then, Catherine Stark. Her skills are also technical: AWS, Python, Java, Kubernetes, Terraform, etc. She's an AWS DevOps Engineer, which again is more about cloud and DevOps. Her experience includes creating DevOps pipelines and automations, which is more about infrastructure and software development. While automation skills can be useful in any field, the specific areas she's worked in don't align with HR tasks like recruitment, onboarding, or employee relations.\n",
      "\n",
      "So, comparing all three, Bethany clearly has the most relevant skills and experience for the HR Generalist role. Kieran and Catherine both have technical skills that don't match the HR job description, but since Kieran's resume doesn't mention any HR-related skills at all, Catherine might have a slight edge if any of her skills could transfer, but it's still a stretch. However, given the job description, I think Kieran is the least relevant.\n",
      "\n",
      "Wait, actually, Catherine's skills are more about cloud and DevOps, which are different from Kieran's network administration. But neither have any HR experience. So, maybe Catherine is slightly more relevant than Kieran because her role might involve some process management that could theoretically apply to HR systems, but it's a stretch. However, since the job is specifically for HR, I think both are equally irrelevant, but I have to rank them. Since Kieran's skills are more about network administration, which is further from HR than Catherine's cloud skills, maybe Catherine is slightly better, but not by much.\n",
      "\n",
      "Wait, no, actually, looking again, Catherine's skills are more about infrastructure and DevOps, which might not have any overlap with HR. Kieran's skills are about network administration, which also doesn't overlap. So, perhaps they are equally irrelevant, but I have to rank them. Maybe Kieran is less relevant because network administration is more about hardware and networks, whereas Catherine's work is about cloud services, which might have some tangential relation to HR systems if the company uses cloud-based HR tools. But it's a stretch. \n",
      "\n",
      "Alternatively, maybe Catherine's experience with automation could be useful in an HR context, like automating onboarding processes or data entry. But it's still a big leap. So, perhaps Catherine is slightly more relevant than Kieran, but both are far behind Bethany.\n",
      "\n",
      "Wait, but the job description is about the full employee lifecycle, so maybe someone with experience in process automation could be useful, but it's not a direct fit. So, I think the ranking would be:\n",
      "\n",
      "1. Bethany Aster - most relevant\n",
      "2. Catherine Stark - some technical skills that might indirectly apply\n",
      "3. Kieran Gallagher - least relevant\n",
      "\n",
      "But I'm not entirely sure if Catherine should be above Kieran. Maybe they should be tied, but since I have to rank them, I'll put Catherine second and Kieran third.\n",
      "</think>\n",
      "\n",
      "Here is the ranking of the resumes based on relevance to the HR Generalist job description:\n",
      "\n",
      "1. **Bethany Aster**  \n",
      "   - **Email:** b.aster@email.com  \n",
      "   - **Skills:** PHR Certification, ATS (Workday, Jobvite), Compensation & Benefits, Payroll, Performance Management  \n",
      "   - **Work Experience:** HR Generalist with experience in recruitment, onboarding, and employee relations.  \n",
      "\n",
      "2. **Catherine Stark**  \n",
      "   - **Email:** catherinestark@email.com  \n",
      "   - **Skills:** AWS, Python, Java, Ruby, Bash, Kubernetes, Terraform, Cloudformation, Jenkins  \n",
      "   - **Work Experience:** AWS DevOps Engineer with experience in automation and process management, which could have indirect applications in HR systems.  \n",
      "\n",
      "3. **Kieran Gallagher**  \n",
      "   - **Email:** k.gallagher@email.com  \n",
      "   - **Skills:** Azure Pipelines, LAMP stack, MySQL, Nagios, GitLab, RESTful APIs in Django, KVM/VZ Virtualization, Terraform, Ansible, Docker, Zend Framework, Azure Monitor, Microsoft Azure, PowerShell, VMware, Trello  \n",
      "   - **Work Experience:** Network Administrator with technical skills unrelated to HR responsibilities.  \n",
      "\n",
      "This ranking reflects the alignment of each candidate's skills and experience with the HR Generalist role.\n"
     ]
    },
    {
     "name": "stderr",
     "output_type": "stream",
     "text": [
      "Uploading files: 100%|██████████| 1/1 [00:01<00:00,  1.11s/it]\n",
      "Creating extraction jobs: 100%|██████████| 1/1 [00:02<00:00,  2.71s/it]\n",
      "Extracting files: 100%|██████████| 1/1 [00:04<00:00,  4.78s/it]\n"
     ]
    }
   ],
   "source": [
    "res = await chain.ainvoke({\"resumes_dir_path\": \"/Users/yashpatil/Developer/AI/ResumeJDMatcher/data\", \"jd\": \"\"\"Seeking a versatile HR Generalist to manage the full employee lifecycle, from recruitment and onboarding to employee relations and policy implementation.\n",
    "\"\"\"})"
   ]
  },
  {
   "cell_type": "code",
   "execution_count": 18,
   "id": "3c304dd2",
   "metadata": {},
   "outputs": [
    {
     "data": {
      "text/plain": [
       "{'resumes_dir_path': '/Users/yashpatil/Developer/AI/ResumeJDMatcher/data',\n",
       " 'jd': 'Seeking a versatile HR Generalist to manage the full employee lifecycle, from recruitment and onboarding to employee relations and policy implementation.\\n',\n",
       " 'text_resumes': ['Yash Patil is a skilled professional.\\nEmail: Yashstudy02@gmail.com\\nSkills: JavaScript (ES6+), Node.js, Python, TypeScript, React, Express, MongoDB, Next.js, streamlit, Figma, Canva, Premier Pro, AWS, Netlify, Vercel, RESTful API, Git, Postman, Npm, Stripe, Firebase, Axios, React Router, Agile Experience, Responsive & Mobile-First Design, CI/CD Pipeline using Github\\n\\nWork Experience:\\n- UX Designer and Web Developer Intern at Techwarium from Aug 2024 to Oct 2024.\\n- UX Designer and Web Developer Intern at Techwarium from Dec 2024 to Feb 2024.\\n\\nEducation: B.E. (CSE), AITR, RGPV Bhopal, 2025, 7.1 CGPA; 12th, Shree Vaishnav Academy, CBSE, 2020, 82%; 10th, Shree Vaishnav Academy, CBSE, 2018, 82%\\n\\nProjects:\\n- SpaceWeather: Developed a client application for Swasti Framework. Created UI designs, developed web components, implemented interactive features, and collaborated with a professional web development team.\\n- Lalaverse (Shopping Metaverse): Delivered comprehensive UX and UI design solutions for a shopping metaverse. Designed user experience for app and web, developed Tenant Portal, integrated Stripe payment gateway, and collaborated with a cross-functional team.\\n- Qupe (Dating Application): Spearheaded UX design and development for a dating application. Designed user flows, developed hero web page, onboarding, edit profile, matchmaking settings, ensured Unity-React integration, and collaborated in a team environment.',\n",
       "  'Catherine Stark is a skilled professional.\\nEmail: catherinestark@email.com\\nSkills: AWS, Python, Java, Ruby, Bash, Kubernetes, Terraform, Cloudformation, Jenkins\\n\\nWork Experience:\\n- AWS DevOps Engineer at S&P Global (April 2019 - current, Birmingham, AL): Created and implemented 4 new DevOps pipelines to deliver Infrastructure as Code; Built workflows to create immutable infrastructure in AWS; Developed 20+ automations for provisioning compute instances and storage; Developed 4 Ansible playbooks and automated the execution of routine Linux scripts; Provisioned resources in AWS using Cloud Formation Templates; Interacted and communicated with 10,000+ global customers, business users, and IT staff.\\n- AWS DevOps Engineer at Jefferson Frank (June 2016 - March 2019, Tuscaloosa, AL): Implemented technical solutions for customer engagements as part of an 8-member team; Helped 500+ customers shape their journey to adopting the cloud, providing customers with technical and strategic support; Consulted, planned, designed, and implemented cloud solutions with 500+ customers; Developed 150+ customer technology roadmaps; Created 2 self-service account frameworks, 1 self-service environment framework, and 1 self-service pipeline framework; Analyzed infrastructure and developed utilization reports, presenting to 6 stakeholders and 4 senior managers.\\n\\nEducation: B.S. Computer Science, University of Alabama, September 2012 - June 2016, Tuscaloosa, AL\\n\\nProjects:',\n",
       "  'Aditi Sharma is a skilled professional.\\nEmail: aditi.sharma@example.com\\nSkills: HTML, CSS, JavaScript, React.js, Responsive Design, UX/UI Design, Git\\n\\nWork Experience:\\n- Front End Developer at TechFusion, Bangalore, India (May 2021 - Present): Designed and developed user interfaces for 10+ web applications, enhancing user engagement by 30%. Collaborated with UX/UI designers to implement responsive design principles, improving mobile accessibility. Utilized React.js to build reusable components, reducing development time by 25%.\\n- Junior Front End Developer at Innovatech Solutions, Hyderabad, India (Jun 2018 - Apr 2021): Assisted in the development of e-commerce websites with a focus on user experience and performance. Implemented SEO best practices, leading to a 40% increase in organic traffic. Worked with cross-functional teams to define and implement new features based on user feedback.\\n\\nEducation: B.Tech in Computer Science, Indian Institute of Technology, Delhi (2014 - 2018). Graduated with honors. Focused on web development and user interface design.\\n\\nProjects:',\n",
       "  'Emma Dupont is a skilled professional.\\nEmail: emma.dupont@example.com\\nSkills: React.js, Vue.js, JavaScript, HTML5, CSS3, Responsive Design, Git, SEO\\n\\nWork Experience:\\n- Front End Developer at TECHSOLUTIONS, Paris, France (Mar 2021 ‑ Present): Developed and maintained multiple high‑traffic web applications using React.js and Vue.js. Improved website performance by 30% through code optimization and efficient asset management. Collaborated with UX/UI designers to implement responsive designs that increased user engagement by 25%.\\n- Junior Front End Developer at WEBINNOVATE, Lyon, France (Jan 2018 ‑ Feb 2021): Assisted in the development of client websites using HTML, CSS, and JavaScript. Participated in the redesign of the company’s website, resulting in a 40% increase in traffic. Implemented best practices for accessibility and SEO, improving overall site usability.\\n\\nEducation: B.S. in Computer Science, UNIVERSITÉ PARIS-SACLAY, Paris, France, 2014 ‑ 2017. Focused on web development and software engineering methodologies. Completed a capstone project on responsive design principles.\\n\\nProjects:\\n- Capstone project on responsive design principles (UNIVERSITÉ PARIS-SACLAY)',\n",
       "  'Giulia Rossi is a skilled professional.\\nEmail: giulia.rossi@example.com\\nSkills: HTML, CSS, JavaScript, React, Responsive Design\\n\\nWork Experience:\\n- Junior Front End Developer at WEBINNOVATE, Milan, Italy (Jun 2022 - Present): Collaborated in a team to develop a responsive e-commerce website, improving user engagement by 30%. Implemented user interface designs using React, enhancing the overall user experience. Conducted cross-browser testing and debugging to ensure compatibility and performance.\\n- Front End Intern at CREATIVE SOLUTIONS, Rome, Italy (Jan 2021 - May 2022): Assisted in developing web applications using HTML, CSS, and JavaScript, contributing to a 15% increase in website traffic. Worked closely with designers to translate visual concepts into functional web pages. Participated in code reviews and contributed to the continuous improvement of coding standards.\\n\\nEducation: B.Sc. in Computer Science, University of Milan, Milan, Italy (2018 - 2021). Focused on web development and programming languages, with projects on responsive web design and user experience.\\n\\nProjects:\\n- Developed a responsive e-commerce website as part of a team at WEBINNOVATE.\\n- Projects on responsive web design and user experience during B.Sc. in Computer Science at University of Milan.',\n",
       "  'Bethany Aster is a skilled professional.\\nEmail: b.aster@email.com\\nSkills: PHR Certification, ATS (Workday, Jobvite), Compensation & Benefits, Payroll, Performance Management\\n\\nWork Experience:\\n- Tafapolsky & Smith LLP - HR Generalist (April 2017 - current | Santa Barbara, CA): Delivered hiring practices that utilized industry data to improve new hire work output, enabling 6 new employees to handle the workload of 7. Spearheaded recruitment program, enabling competitive hiring practices, resulting in higher morale and productivity and reducing $56K in annual hiring expenses. Developed scheduling system, assigning 80+ shifts and workloads with Asana software. Prepared and provided equity, sexual harassment, safety, and ethics training 2 times a year. Complied with 100% of local, state, and federal laws and recommendations.\\n- Lucas Group - HR Generalist (October 2012 - April 2017 | Santa Barbara, CA): Enhanced hiring systems, reducing $23K in associated costs, reducing new-hire turnover. Handled all aspects of work performance monitoring, resulting in an 8% boost in productivity. Attended 3 annual events to enhance HR practices and ensure employee job satisfaction. Implemented employee recognition program, leading to a 12% drop in resignations.\\n- SuperMoss - HR Recruiter (January 2002 - October 2012 | Santa Barbara, CA): Restructured employee recruiting plans, emphasizing social media and other modern funnels that increased job visibility by 710%. Collaborated with 3 departments to create online application systems and job descriptions. Enacted college guest-lecture programs featuring staff, increasing interns by 40%. Crafted recruitment targets, exceeding the number of qualified applicants by 29% in 2011.\\n\\nEducation: University of California Santa Barbara - Bachelor of Arts, Human Resource Management (1993 - 1997 | Santa Barbara, CA)\\n\\nProjects:',\n",
       "  'Kieran Gallagher is a skilled professional.\\nEmail: k.gallagher@email.com\\nSkills: Azure Pipelines, LAMP stack, MySQL, Nagios, GitLab, RESTful APIS in Django, KVM/VZ Virtualization, Terraform, Ansible, Docker, Zend Framework, Azure Monitor, Microsoft Azure, PowerShell, VMware, Trello\\n\\nWork Experience:\\n- Network Administrator at Meijer, Grand Rapids, MI (2020 - current): Automated code building and testing on Azure Pipelines, accelerated process by 76%. Accelerated deployment of virtual machines using VMware to 2 minutes from 5. Enhanced website performance by 69% by updating Apache to LAMP stack. Corrected user code errors and reduced system downtime to 3% weekly. Saved $2.4K monthly through VM centralized access for CRM database. Reduced physical nodes by 42% using KVM/VZ virtualization.\\n- Software Developer at Dow Chemical Company, Midland, MI (2017 - 2020): Distributed data storage for 11+ MySQL servers through Ansible-supported centralized reporting server. Converted 6 web applications to Zend Framework from Code Ignitor, reduced code length by 41%. Boosted server uptime by 43% by launching internal Nagios monitoring system. Accelerated internal analytics reporting speed by 47% by implementing RESTful APIs in Django. Collaborated in code refactoring with a team of 3 developers, reducing service loading time to 3%. Automated nightly builds to send bug alerts and reduced fixing time by 97%.\\n\\nEducation: Bachelor of Science in Computer Science, University of Michigan, 2014 - 2017, Ann Arbor, MI\\n\\nProjects:'],\n",
       " 'matched_resumes': [Document(metadata={'skills': 'phr certification, ats (workday, jobvite), compensation & benefits, payroll, performance management', 'email': 'b.aster@email.com', 'name': 'Bethany Aster'}, page_content='Bethany Aster is a skilled professional.\\nEmail: b.aster@email.com\\nSkills: PHR Certification, ATS (Workday, Jobvite), Compensation & Benefits, Payroll, Performance Management\\n\\nWork Experience:\\n- Tafapolsky & Smith LLP - HR Generalist (April 2017 - current | Santa Barbara, CA): Delivered hiring practices that utilized industry data to improve new hire work output, enabling 6 new employees to handle the workload of 7. Spearheaded recruitment program, enabling competitive hiring practices, resulting in higher morale and productivity and reducing $56K in annual hiring expenses. Developed scheduling system, assigning 80+ shifts and workloads with Asana software. Prepared and provided equity, sexual harassment, safety, and ethics training 2 times a year. Complied with 100% of local, state, and federal laws and recommendations.\\n- Lucas Group - HR Generalist (October 2012 - April 2017 | Santa Barbara, CA): Enhanced hiring systems, reducing $23K in associated costs, reducing new-hire turnover. Handled all aspects of work performance monitoring, resulting in an 8% boost in productivity. Attended 3 annual events to enhance HR practices and ensure employee job satisfaction. Implemented employee recognition program, leading to a 12% drop in resignations.\\n- SuperMoss - HR Recruiter (January 2002 - October 2012 | Santa Barbara, CA): Restructured employee recruiting plans, emphasizing social media and other modern funnels that increased job visibility by 710%. Collaborated with 3 departments to create online application systems and job descriptions. Enacted college guest-lecture programs featuring staff, increasing interns by 40%. Crafted recruitment targets, exceeding the number of qualified applicants by 29% in 2011.\\n\\nEducation: University of California Santa Barbara - Bachelor of Arts, Human Resource Management (1993 - 1997 | Santa Barbara, CA)\\n\\nProjects:'),\n",
       "  Document(metadata={'name': 'Kieran Gallagher', 'skills': 'azure pipelines, lamp stack, mysql, nagios, gitlab, restful apis in django, kvm/vz virtualization, terraform, ansible, docker, zend framework, azure monitor, microsoft azure, powershell, vmware, trello', 'email': 'k.gallagher@email.com'}, page_content='Kieran Gallagher is a skilled professional.\\nEmail: k.gallagher@email.com\\nSkills: Azure Pipelines, LAMP stack, MySQL, Nagios, GitLab, RESTful APIS in Django, KVM/VZ Virtualization, Terraform, Ansible, Docker, Zend Framework, Azure Monitor, Microsoft Azure, PowerShell, VMware, Trello\\n\\nWork Experience:\\n- Network Administrator at Meijer, Grand Rapids, MI (2020 - current): Automated code building and testing on Azure Pipelines, accelerated process by 76%. Accelerated deployment of virtual machines using VMware to 2 minutes from 5. Enhanced website performance by 69% by updating Apache to LAMP stack. Corrected user code errors and reduced system downtime to 3% weekly. Saved $2.4K monthly through VM centralized access for CRM database. Reduced physical nodes by 42% using KVM/VZ virtualization.\\n- Software Developer at Dow Chemical Company, Midland, MI (2017 - 2020): Distributed data storage for 11+ MySQL servers through Ansible-supported centralized reporting server. Converted 6 web applications to Zend Framework from Code Ignitor, reduced code length by 41%. Boosted server uptime by 43% by launching internal Nagios monitoring system. Accelerated internal analytics reporting speed by 47% by implementing RESTful APIs in Django. Collaborated in code refactoring with a team of 3 developers, reducing service loading time to 3%. Automated nightly builds to send bug alerts and reduced fixing time by 97%.\\n\\nEducation: Bachelor of Science in Computer Science, University of Michigan, 2014 - 2017, Ann Arbor, MI\\n\\nProjects:'),\n",
       "  Document(metadata={'name': 'Catherine Stark', 'email': 'catherinestark@email.com', 'skills': 'aws, python, java, ruby, bash, kubernetes, terraform, cloudformation, jenkins'}, page_content='Catherine Stark is a skilled professional.\\nEmail: catherinestark@email.com\\nSkills: AWS, Python, Java, Ruby, Bash, Kubernetes, Terraform, Cloudformation, Jenkins\\n\\nWork Experience:\\n- AWS DevOps Engineer at S&P Global (April 2019 - current, Birmingham, AL): Created and implemented 4 new DevOps pipelines to deliver Infrastructure as Code; Built workflows to create immutable infrastructure in AWS; Developed 20+ automations for provisioning compute instances and storage; Developed 4 Ansible playbooks and automated the execution of routine Linux scripts; Provisioned resources in AWS using Cloud Formation Templates; Interacted and communicated with 10,000+ global customers, business users, and IT staff.\\n- AWS DevOps Engineer at Jefferson Frank (June 2016 - March 2019, Tuscaloosa, AL): Implemented technical solutions for customer engagements as part of an 8-member team; Helped 500+ customers shape their journey to adopting the cloud, providing customers with technical and strategic support; Consulted, planned, designed, and implemented cloud solutions with 500+ customers; Developed 150+ customer technology roadmaps; Created 2 self-service account frameworks, 1 self-service environment framework, and 1 self-service pipeline framework; Analyzed infrastructure and developed utilization reports, presenting to 6 stakeholders and 4 senior managers.\\n\\nEducation: B.S. Computer Science, University of Alabama, September 2012 - June 2016, Tuscaloosa, AL\\n\\nProjects:')],\n",
       " 'ranked_resumes': [{'name': 'Bethany Aster',\n",
       "   'email': 'b.aster@email.com',\n",
       "   'skills': ['PHR Certification',\n",
       "    'ATS (Workday, Jobvite)',\n",
       "    'Compensation & Benefits',\n",
       "    'Payroll',\n",
       "    'Performance Management'],\n",
       "   'work_experience': ['HR Generalist with experience in recruitment, onboarding, and employee relations.'],\n",
       "   'education': '',\n",
       "   'projects': []},\n",
       "  {'name': 'Catherine Stark',\n",
       "   'email': 'catherinestark@email.com',\n",
       "   'skills': ['AWS',\n",
       "    'Python',\n",
       "    'Java',\n",
       "    'Ruby',\n",
       "    'Bash',\n",
       "    'Kubernetes',\n",
       "    'Terraform',\n",
       "    'Cloudformation',\n",
       "    'Jenkins'],\n",
       "   'work_experience': ['AWS DevOps Engineer with experience in automation and process management, which could have indirect applications in HR systems.'],\n",
       "   'education': '',\n",
       "   'projects': []},\n",
       "  {'name': 'Kieran Gallagher',\n",
       "   'email': 'k.gallagher@email.com',\n",
       "   'skills': ['Azure Pipelines',\n",
       "    'LAMP stack',\n",
       "    'MySQL',\n",
       "    'Nagios',\n",
       "    'GitLab',\n",
       "    'RESTful APIs in Django',\n",
       "    'KVM/VZ Virtualization',\n",
       "    'Terraform',\n",
       "    'Ansible',\n",
       "    'Docker',\n",
       "    'Zend Framework',\n",
       "    'Azure Monitor',\n",
       "    'Microsoft Azure',\n",
       "    'PowerShell',\n",
       "    'VMware',\n",
       "    'Trello'],\n",
       "   'work_experience': ['Network Administrator with technical skills unrelated to HR responsibilities.'],\n",
       "   'education': '',\n",
       "   'projects': []}],\n",
       " 'no_match': False}"
      ]
     },
     "execution_count": 18,
     "metadata": {},
     "output_type": "execute_result"
    }
   ],
   "source": [
    "res"
   ]
  },
  {
   "cell_type": "code",
   "execution_count": 19,
   "id": "4db9f6d0",
   "metadata": {},
   "outputs": [
    {
     "data": {
      "text/plain": [
       "[{'name': 'Bethany Aster',\n",
       "  'email': 'b.aster@email.com',\n",
       "  'skills': ['PHR Certification',\n",
       "   'ATS (Workday, Jobvite)',\n",
       "   'Compensation & Benefits',\n",
       "   'Payroll',\n",
       "   'Performance Management'],\n",
       "  'work_experience': ['HR Generalist with experience in recruitment, onboarding, and employee relations.'],\n",
       "  'education': '',\n",
       "  'projects': []},\n",
       " {'name': 'Catherine Stark',\n",
       "  'email': 'catherinestark@email.com',\n",
       "  'skills': ['AWS',\n",
       "   'Python',\n",
       "   'Java',\n",
       "   'Ruby',\n",
       "   'Bash',\n",
       "   'Kubernetes',\n",
       "   'Terraform',\n",
       "   'Cloudformation',\n",
       "   'Jenkins'],\n",
       "  'work_experience': ['AWS DevOps Engineer with experience in automation and process management, which could have indirect applications in HR systems.'],\n",
       "  'education': '',\n",
       "  'projects': []},\n",
       " {'name': 'Kieran Gallagher',\n",
       "  'email': 'k.gallagher@email.com',\n",
       "  'skills': ['Azure Pipelines',\n",
       "   'LAMP stack',\n",
       "   'MySQL',\n",
       "   'Nagios',\n",
       "   'GitLab',\n",
       "   'RESTful APIs in Django',\n",
       "   'KVM/VZ Virtualization',\n",
       "   'Terraform',\n",
       "   'Ansible',\n",
       "   'Docker',\n",
       "   'Zend Framework',\n",
       "   'Azure Monitor',\n",
       "   'Microsoft Azure',\n",
       "   'PowerShell',\n",
       "   'VMware',\n",
       "   'Trello'],\n",
       "  'work_experience': ['Network Administrator with technical skills unrelated to HR responsibilities.'],\n",
       "  'education': '',\n",
       "  'projects': []}]"
      ]
     },
     "execution_count": 19,
     "metadata": {},
     "output_type": "execute_result"
    }
   ],
   "source": [
    "res[\"ranked_resumes\"]"
   ]
  },
  {
   "cell_type": "code",
   "execution_count": null,
   "id": "0ed15f83",
   "metadata": {},
   "outputs": [],
   "source": [
    "res[\"matched_resumes\"]"
   ]
  },
  {
   "cell_type": "code",
   "execution_count": null,
   "id": "0793fbb9",
   "metadata": {},
   "outputs": [],
   "source": []
  },
  {
   "cell_type": "code",
   "execution_count": null,
   "id": "dd1fecdc",
   "metadata": {},
   "outputs": [],
   "source": []
  },
  {
   "cell_type": "code",
   "execution_count": null,
   "id": "f3843c56",
   "metadata": {},
   "outputs": [],
   "source": []
  },
  {
   "cell_type": "code",
   "execution_count": null,
   "id": "b19e9577",
   "metadata": {},
   "outputs": [],
   "source": []
  },
  {
   "cell_type": "code",
   "execution_count": null,
   "id": "04eeeb8d",
   "metadata": {},
   "outputs": [],
   "source": []
  },
  {
   "cell_type": "code",
   "execution_count": null,
   "id": "392cf6a5",
   "metadata": {},
   "outputs": [],
   "source": []
  }
 ],
 "metadata": {
  "kernelspec": {
   "display_name": "Python 3",
   "language": "python",
   "name": "python3"
  },
  "language_info": {
   "codemirror_mode": {
    "name": "ipython",
    "version": 3
   },
   "file_extension": ".py",
   "mimetype": "text/x-python",
   "name": "python",
   "nbconvert_exporter": "python",
   "pygments_lexer": "ipython3",
   "version": "3.13.5"
  }
 },
 "nbformat": 4,
 "nbformat_minor": 5
}
