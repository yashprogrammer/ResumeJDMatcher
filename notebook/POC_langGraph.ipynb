{
 "cells": [
  {
   "cell_type": "code",
   "execution_count": 1,
   "id": "5c032cba",
   "metadata": {},
   "outputs": [],
   "source": [
    "import os \n",
    "import asyncio\n",
    "from dotenv import load_dotenv\n",
    "from langchain_groq import ChatGroq\n",
    "from langchain_openai import ChatOpenAI\n",
    "import smtplib\n",
    "\n",
    "\n",
    "load_dotenv()\n",
    "os.environ[\"GROQ_API_KEY\"]=os.getenv(\"GROQ_API_KEY\")\n",
    "os.environ[\"OPENAI_API_KEY\"]=os.getenv(\"OPENAI_API_KEY\")\n",
    "os.environ[\"GOOGLE_API_KEY\"]=os.getenv(\"GOOGLE_API_KEY\")\n",
    "\n",
    "llm = ChatGroq(model=\"deepseek-r1-distill-llama-70b\", max_tokens=2000, temperature=0)\n",
    "llm2 = ChatOpenAI(model=\"gpt-4o\", temperature=0,max_tokens=2000)"
   ]
  },
  {
   "cell_type": "code",
   "execution_count": 2,
   "id": "2000ee6d",
   "metadata": {},
   "outputs": [],
   "source": [
    "from typing import Optional, TypedDict, List\n",
    "from pydantic import BaseModel, Field\n",
    "from langchain_google_genai import GoogleGenerativeAIEmbeddings\n",
    "\n",
    "\n",
    "embedding_model=GoogleGenerativeAIEmbeddings(model=\"models/embedding-001\")\n",
    "\n",
    "from langchain.schema import Document\n",
    "from langchain.vectorstores import Chroma"
   ]
  },
  {
   "cell_type": "code",
   "execution_count": 3,
   "id": "51f12627",
   "metadata": {},
   "outputs": [
    {
     "name": "stderr",
     "output_type": "stream",
     "text": [
      "/var/folders/d_/rqsk7t093dlg0nzx8rc5n4fh0000gn/T/ipykernel_79460/2185028648.py:1: LangChainDeprecationWarning: The class `Chroma` was deprecated in LangChain 0.2.9 and will be removed in 1.0. An updated version of the class exists in the :class:`~langchain-chroma package and should be used instead. To use it run `pip install -U :class:`~langchain-chroma` and import as `from :class:`~langchain_chroma import Chroma``.\n",
      "  vectorstore = Chroma(\n"
     ]
    }
   ],
   "source": [
    "\n",
    "vectorstore = Chroma(\n",
    "    collection_name=\"resume_collection\",\n",
    "    embedding_function=embedding_model,\n",
    "    persist_directory=\"./chromaDB\"\n",
    "    )\n"
   ]
  },
  {
   "cell_type": "code",
   "execution_count": 4,
   "id": "27e589e2",
   "metadata": {},
   "outputs": [],
   "source": [
    "class email(BaseModel):\n",
    "    ar_requestor: str\n",
    "    recruiter : str"
   ]
  },
  {
   "cell_type": "code",
   "execution_count": 5,
   "id": "5d7372f8",
   "metadata": {},
   "outputs": [],
   "source": [
    "class State(TypedDict):\n",
    "    resumes_dir_path: str\n",
    "    jd: str\n",
    "    text_resumes: List[str]  # List of text representations of resumes\n",
    "    matched_resumes: List  # List of Document objects from vector store\n",
    "    ranked_resumes: List  # List of Document objects ranked by relevance\n",
    "    no_match: bool\n",
    "    emails: Optional[email]  # Made optional and fixed typo\n",
    "    resume_file_path_mapping: dict  # New field to store name -> pdf_path mapping"
   ]
  },
  {
   "cell_type": "code",
   "execution_count": 6,
   "id": "cb8d6a0d",
   "metadata": {},
   "outputs": [],
   "source": [
    "from langchain_core.messages import HumanMessage, SystemMessage\n"
   ]
  },
  {
   "cell_type": "code",
   "execution_count": 7,
   "id": "114b5b58",
   "metadata": {},
   "outputs": [],
   "source": [
    "os.environ[\"LLAMA_CLOUD_API_KEY\"] = os.getenv(\"LLAMA_CLOUD_API_KEY\")"
   ]
  },
  {
   "cell_type": "code",
   "execution_count": 8,
   "id": "2f5c0b15",
   "metadata": {},
   "outputs": [],
   "source": [
    "from llama_cloud_services import LlamaExtract\n",
    "from llama_cloud_services.extract import SourceText\n",
    "\n",
    "\n",
    "\n",
    "extractor = LlamaExtract()\n",
    "\n",
    "class Resume(BaseModel):\n",
    "    name: str = Field(description=\"Full name of candidate\")\n",
    "    email: str = Field(description=\"Email address\")\n",
    "    skills: list[str] = Field(description=\"Technical skills and technologies\")\n",
    "    work_experience: list[str] = Field(description=\"Work experience details\")\n",
    "    education: str = Field(description=\"Educational background\")\n",
    "    projects: list[str] = Field(description=\"Projects worked on\")\n",
    "\n",
    "\n",
    "class RankedResumes(BaseModel):\n",
    "    ranked_resumes: List[Resume] = Field(description=\"List of resumes ranked by relevance to the job description\")\n"
   ]
  },
  {
   "cell_type": "code",
   "execution_count": 9,
   "id": "57243020",
   "metadata": {},
   "outputs": [],
   "source": [
    "class RankedResumes(BaseModel):\n",
    "    ranked_resumes: List[Resume] = Field(description=\"List of resumes ranked by relevance to the job description\")\n",
    "\n",
    "\n",
    "str_llm = llm.with_structured_output(RankedResumes)\n",
    "str_llm2 = llm2.with_structured_output(RankedResumes)"
   ]
  },
  {
   "cell_type": "code",
   "execution_count": 10,
   "id": "f8ee3cb5",
   "metadata": {},
   "outputs": [],
   "source": [
    "\n",
    "\n",
    "agent = extractor.create_agent(name=\"resume-parser546\", data_schema=Resume)\n",
    "agent2 = extractor.create_agent(name=\"ranked_resumes1400\", data_schema=RankedResumes)\n"
   ]
  },
  {
   "cell_type": "code",
   "execution_count": 11,
   "id": "f115ccdb",
   "metadata": {},
   "outputs": [],
   "source": [
    "def resume_to_text(resume):\n",
    "    text = f\"{resume['name']} is a skilled professional.\\n\"\n",
    "    text += f\"Email: {resume['email']}\\n\"\n",
    "    text += f\"Skills: {', '.join(resume['skills'])}\\n\"\n",
    "    \n",
    "    text += \"\\nWork Experience:\\n\"\n",
    "    for exp in resume['work_experience']:\n",
    "        text += f\"- {exp}\\n\"\n",
    "\n",
    "    text += f\"\\nEducation: {resume['education']}\\n\"\n",
    "\n",
    "    text += \"\\nProjects:\\n\"\n",
    "    for proj in resume['projects']:\n",
    "        text += f\"- {proj}\\n\"\n",
    "\n",
    "    return text.strip()"
   ]
  },
  {
   "cell_type": "markdown",
   "id": "3a279295",
   "metadata": {},
   "source": [
    "## Extracting And Storing Resumes in VectorStore"
   ]
  },
  {
   "cell_type": "code",
   "execution_count": 12,
   "id": "14d88ae3",
   "metadata": {},
   "outputs": [],
   "source": [
    "async def extract_and_store_resumes(state: State):\n",
    "    \"Extract the text from resumes and store them in vectorstore\"\n",
    "    resumes_dir_path = state[\"resumes_dir_path\"]\n",
    "    pdf_files = []\n",
    "    job_to_file_mapping = {}\n",
    "    for file in os.listdir(resumes_dir_path):\n",
    "        if file.endswith(\".pdf\"):\n",
    "            pdf_files.append(os.path.join(resumes_dir_path, file))\n",
    "\n",
    "    jobs = await agent.queue_extraction(pdf_files)\n",
    "    print(f\"Queued {len(jobs)} extraction jobs\")\n",
    "\n",
    "    for i, job in enumerate(jobs):\n",
    "        job_to_file_mapping[job.id] = pdf_files[i]\n",
    "\n",
    "    \n",
    "    # Wait for all jobs to complete\n",
    "    results = []\n",
    "    for job in jobs:\n",
    "        # Keep checking until the job is complete\n",
    "        while True:\n",
    "            result = agent.get_extraction_run_for_job(job.id)\n",
    "            status = result.status.value\n",
    "            \n",
    "            if status in ['COMPLETED', 'SUCCESS']:  # Handle both possible success statuses\n",
    "                results.append(result)\n",
    "                print(f\"Job {job.id} completed successfully\")\n",
    "                break\n",
    "            elif status == 'FAILED':\n",
    "                print(f\"Job {job.id} failed: {result.error}\")\n",
    "                break\n",
    "            else:\n",
    "                print(f\"Job {job.id} status: {status}, waiting...\")\n",
    "                await asyncio.sleep(2)  # Wait 2 seconds before checking again\n",
    "    \n",
    "    print(f\"All jobs completed. Processing {len(results)} results.\")\n",
    "    resumes = []\n",
    "    resume_file_mapping = {}\n",
    "\n",
    "    for result in results:\n",
    "        if result.data:  # Check if data exists\n",
    "            file_path = job_to_file_mapping.get(result.job_id)\n",
    "            resume_info = {\n",
    "                'name': result.data[\"name\"],\n",
    "                'email': result.data[\"email\"],\n",
    "                'skills': result.data[\"skills\"],\n",
    "                'work_experience': result.data[\"work_experience\"],\n",
    "                'education': result.data[\"education\"],\n",
    "                'projects': result.data[\"projects\"]\n",
    "            }\n",
    "            resumes.append(resume_info)\n",
    "\n",
    "            resume_file_mapping[resume_info[\"name\"]] = file_path\n",
    "        else:\n",
    "            print(f\"Warning: No data found for job {result.job_id}\")\n",
    "    \n",
    "    text_resumes = [resume_to_text(resume) for resume in resumes]\n",
    "\n",
    "\n",
    "\n",
    "    docs = []\n",
    "\n",
    "    for resume in resumes:\n",
    "        text = resume_to_text(resume)\n",
    "        doc = Document(\n",
    "            page_content=text,\n",
    "            metadata={\n",
    "                \"name\": resume[\"name\"],\n",
    "                \"email\": resume[\"email\"],\n",
    "                \"skills\": ', '.join([s.lower().strip() for s in resume[\"skills\"]])\n",
    "            }\n",
    "        )\n",
    "        docs.append(doc)\n",
    "    vectorstore.add_documents(docs)\n",
    "    vectorstore.persist()\n",
    "    \n",
    "    return {\"text_resumes\": text_resumes, \"resume_file_path_mapping\": resume_file_mapping}"
   ]
  },
  {
   "cell_type": "markdown",
   "id": "9b61a921",
   "metadata": {},
   "source": [
    "## Comparison Agent"
   ]
  },
  {
   "cell_type": "code",
   "execution_count": 13,
   "id": "ea91d029",
   "metadata": {},
   "outputs": [],
   "source": [
    "async def comparison_agent(state: State):\n",
    "    '''This node will compare the JD with resume and give the matching resumes'''\n",
    "\n",
    "    jd_text = state[\"jd\"]\n",
    "\n",
    "\n",
    "    matched_resumes = vectorstore.similarity_search(jd_text, k=3)\n",
    "\n",
    "    return {\"matched_resumes\": matched_resumes}\n",
    "\n",
    "\n",
    "\n"
   ]
  },
  {
   "cell_type": "markdown",
   "id": "9780a530",
   "metadata": {},
   "source": [
    "## Ranking Agent "
   ]
  },
  {
   "cell_type": "code",
   "execution_count": 14,
   "id": "f3db7371",
   "metadata": {},
   "outputs": [],
   "source": [
    "async def ranking_agent(state: State):\n",
    "    '''This node will rank the matched resumes based on their relevance to the JD'''\n",
    "\n",
    "    matched_resumes = state[\"matched_resumes\"]\n",
    "    \n",
    "    if not matched_resumes:\n",
    "        return {\"ranked_resumes\": [], \"no_match\": True}\n",
    "    \n",
    "    # Convert Document objects to a simpler format for ranking\n",
    "    resume_texts = []\n",
    "    for doc in matched_resumes:\n",
    "        resume_info = {\n",
    "            \"name\": doc.metadata.get(\"name\", \"Unknown\"),\n",
    "            \"email\": doc.metadata.get(\"email\", \"Unknown\"),\n",
    "            \"content\": doc.page_content,\n",
    "            \"skills\": doc.metadata.get(\"skills\", \"\")\n",
    "        }\n",
    "        resume_texts.append(resume_info)\n",
    "    \n",
    "    # Create a simpler prompt for ranking without structured output\n",
    "    ranking_prompt = f\"\"\"\n",
    "    Job Description: {state['jd']}\n",
    "    \n",
    "    Please rank the following resumes from most relevant (1) to least relevant based on the job description.\n",
    "    Return only the ranking as a numbered list with name and email.\n",
    "    Return all the resumes in the order of their relevance to the job description.\n",
    "    You must provide me the name, email, skills and work experience of each resume in the ranking list\n",
    "    \n",
    "    Resumes to rank:\n",
    "    \"\"\"\n",
    "    \n",
    "    for i, resume in enumerate(resume_texts, 1):\n",
    "        ranking_prompt += f\"\\n{i}. Name: {resume['name']}\\n   Email: {resume['email']}\\n   Skills: {resume['skills']}\\n   Content: {resume['content'][:500]}...\\n\"\n",
    "    \n",
    "    print(\"calling LLM\")\n",
    "    # Use regular LLM invoke instead of structured output\n",
    "    ranking_response = llm.invoke([\n",
    "        SystemMessage(content=\"You are a recruitment expert. Rank the resumes based on their relevance to the job description.\"),\n",
    "        HumanMessage(content=ranking_prompt)\n",
    "    ])\n",
    "\n",
    "    print(f\"Ranking response: {ranking_response.content}\")\n",
    "    \n",
    "    # For now, return the original matched resumes in order (since vector store already does similarity matching)\n",
    "    # The LLM response can be used for additional insights\n",
    "    ranked_resumes = agent2.extract(SourceText(text_content=ranking_response.content))\n",
    "    \n",
    "    return {\"ranked_resumes\": ranked_resumes.data[\"ranked_resumes\"], \"no_match\": False}"
   ]
  },
  {
   "cell_type": "markdown",
   "id": "edb40ae5",
   "metadata": {},
   "source": [
    "## Communicator Agent"
   ]
  },
  {
   "cell_type": "code",
   "execution_count": 15,
   "id": "cd3d1553",
   "metadata": {},
   "outputs": [],
   "source": [
    "from email.mime.text import MIMEText\n",
    "from email.mime.multipart import MIMEMultipart\n",
    "from email.mime.application import MIMEApplication\n",
    "\n",
    "\n",
    "async def communicator_agent(state: State):\n",
    "    \"This agent is responsible for sending emails to the recruiter and the applicant\"\n",
    "\n",
    "    no_match = state[\"no_match\"]\n",
    "    emails = state[\"emails\"]\n",
    "\n",
    "    ranked_resumes = state[\"ranked_resumes\"]\n",
    "    resume_file_path_mapping = state[\"resume_file_path_mapping\"]\n",
    "\n",
    "\n",
    "    if not emails:\n",
    "        print(\"No email configuration provided, skipping email sending.\")\n",
    "        return\n",
    "    smtp_server = os.getenv(\"SMTP_SERVER\", \"smtp.gmail.com\")\n",
    "    smtp_port = int(os.getenv(\"SMTP_PORT\", \"587\"))\n",
    "    sender_email = os.getenv(\"SENDER_EMAIL\")\n",
    "    sender_password = os.getenv(\"SENDER_PASSWORD\")\n",
    "\n",
    "    if not sender_email or not sender_password:\n",
    "        print(\"Email credentials not configured\")\n",
    "        return\n",
    "\n",
    "    try:\n",
    "        server = smtplib.SMTP(smtp_server, smtp_port)\n",
    "        server.starttls()\n",
    "        server.login(sender_email, sender_password)\n",
    "\n",
    "        if no_match:\n",
    "\n",
    "            msg = MIMEMultipart()\n",
    "            msg['From'] = sender_email\n",
    "            msg['To'] = emails.recruiter\n",
    "            msg['Subject'] = \"No Matching Resumes Found\"\n",
    "\n",
    "            body = f\"Dear Recruiter,\\n\\nWe could not find any resumes matching the job description.\\n\\nBest regards,\\nRecruitment Team\"\n",
    "            msg.attach(MIMEText(body, 'plain'))\n",
    "\n",
    "        else:\n",
    "            msg = MIMEMultipart()\n",
    "            msg['From'] = sender_email\n",
    "            msg[\"To\"] = emails.ar_requestor\n",
    "            msg['Subject'] = \"Ranked Resumes for Job Description\"\n",
    "\n",
    "            top_resumes = ranked_resumes[:3]  # Get top 3 resumes\n",
    "\n",
    "            candidates_info = \"\"\n",
    "            for i, candidate in enumerate(top_resumes, 1):\n",
    "                candidates_info += f\"\"\"\n",
    "                {i}. Name: {candidate[\"name\"]}\n",
    "                   Email: {candidate[\"email\"]}\n",
    "                   Skills: {', '.join(candidate[\"skills\"])}\n",
    "                   \n",
    "                   Work Experience:\n",
    "                   {chr(10).join(f'   - {exp}' for exp in candidate[\"work_experience\"])}\n",
    "                   \n",
    "                   Education: {candidate[\"education\"]}\n",
    "                   \n",
    "                   Projects:\n",
    "                   {chr(10).join(f'   - {proj}' for proj in candidate[\"projects\"])}\n",
    "                   \n",
    "                   {'='*50}\n",
    "                \"\"\"\n",
    "            \n",
    "            body = f\"\"\"\n",
    "            Dear AR Requestor,\n",
    "            \n",
    "            We have found matching candidates for your job description. Here are the top 3 candidates:\n",
    "            \n",
    "            {candidates_info}\n",
    "            \n",
    "            Please review these candidates and let us know if you need any additional information.\n",
    "            \n",
    "            Best regards,\n",
    "            Resume Matching System\n",
    "            \"\"\"\n",
    "\n",
    "            msg.attach(MIMEText(body, 'plain'))\n",
    "\n",
    "            for candidate in top_resumes:\n",
    "                candidate_name = candidate[\"name\"]\n",
    "                resume_file_path = resume_file_path_mapping.get(candidate_name)\n",
    "\n",
    "                if resume_file_path and os.path.exists(resume_file_path):\n",
    "                    try:\n",
    "                        with open(resume_file_path, 'rb') as file:\n",
    "                            attachment = MIMEApplication(file.read(), _subtype='pdf')\n",
    "                            attachment.add_header('Content-Disposition', 'attachment', filename=f\"{candidate_name}_resume.pdf\")\n",
    "                            msg.attach(attachment)\n",
    "                    except Exception as e:\n",
    "                        print(f\"Failed to attach resume for {candidate_name}: {e}\")\n",
    "\n",
    "        text = msg.as_string()\n",
    "        server.sendmail(sender_email, msg['To'], text)\n",
    "        server.quit()\n",
    "        print(f\"Email sent successfully to {msg['To']}\")\n",
    "    except Exception as e:\n",
    "        print(f\"Failed to send email: {e}\")\n",
    "    \n",
    "    return None\n",
    "\n"
   ]
  },
  {
   "cell_type": "code",
   "execution_count": 16,
   "id": "2e560959",
   "metadata": {},
   "outputs": [
    {
     "data": {
      "image/png": "[encoded data removed]",
      "text/plain": [
       "<IPython.core.display.Image object>"
      ]
     },
     "metadata": {},
     "output_type": "display_data"
    }
   ],
   "source": [
    "from langgraph.graph import StateGraph, END, START\n",
    "from IPython.display import Image, display\n",
    "\n",
    "flow = StateGraph(State)\n",
    "\n",
    "flow.add_node(\"extract_and_store_resumes\", extract_and_store_resumes)\n",
    "flow.add_node(\"comparison_agent\", comparison_agent)\n",
    "flow.add_node(\"ranking_agent\", ranking_agent)\n",
    "flow.add_node(\"communicator_agent\", communicator_agent)\n",
    "\n",
    "flow.add_edge(START, \"extract_and_store_resumes\")\n",
    "flow.add_edge(\"extract_and_store_resumes\", \"comparison_agent\")\n",
    "flow.add_edge(\"comparison_agent\", \"ranking_agent\")\n",
    "flow.add_edge(\"ranking_agent\", \"communicator_agent\") \n",
    "flow.add_edge(\"communicator_agent\", END)\n",
    "\n",
    "chain = flow.compile()\n",
    "display(Image(chain.get_graph().draw_mermaid_png()))\n"
   ]
  },
  {
   "cell_type": "code",
   "execution_count": 17,
   "id": "2f0d99ab",
   "metadata": {},
   "outputs": [],
   "source": [
    "email_config = email(\n",
    "    ar_requestor=\"yashstudy02@gmail.com\",\n",
    "    recruiter=\"techwariumdev@gmail.com\"\n",
    ")\n"
   ]
  },
  {
   "cell_type": "code",
   "execution_count": 18,
   "id": "19e3635d",
   "metadata": {},
   "outputs": [
    {
     "name": "stderr",
     "output_type": "stream",
     "text": [
      "WARNING: All log messages before absl::InitializeLog() is called are written to STDERR\n",
      "I0000 00:00:1753642634.329947 3611884 fork_posix.cc:71] Other threads are currently calling into gRPC, skipping fork() handlers\n",
      "Uploading files: 100%|██████████| 7/7 [00:02<00:00,  2.74it/s]\n",
      "Creating extraction jobs: 100%|██████████| 7/7 [00:01<00:00,  4.15it/s]\n"
     ]
    },
    {
     "name": "stdout",
     "output_type": "stream",
     "text": [
      "Queued 7 extraction jobs\n",
      "Job 04c93905-a023-44c2-b642-18eaf1d74cca status: PENDING, waiting...\n",
      "Job 04c93905-a023-44c2-b642-18eaf1d74cca status: PENDING, waiting...\n",
      "Job 04c93905-a023-44c2-b642-18eaf1d74cca completed successfully\n",
      "Job 0a65c8af-761e-4a5e-b387-3a7ec9f286aa completed successfully\n",
      "Job 850f7260-eb5d-40c9-9470-23a6eabd221c completed successfully\n",
      "Job 6bd02fe8-2b79-4c38-a9be-c9cb9c0924e9 completed successfully\n",
      "Job 83aeb750-2d7e-4170-8df7-d13dbf713958 completed successfully\n",
      "Job e98bbcf1-29e6-4f3d-97a4-9ddbc3deab5d completed successfully\n",
      "Job f6a76519-5192-428f-a79b-f14bdb79e55b completed successfully\n",
      "All jobs completed. Processing 7 results.\n"
     ]
    },
    {
     "name": "stderr",
     "output_type": "stream",
     "text": [
      "/var/folders/d_/rqsk7t093dlg0nzx8rc5n4fh0000gn/T/ipykernel_79460/286119201.py:75: LangChainDeprecationWarning: Since Chroma 0.4.x the manual persistence method is no longer supported as docs are automatically persisted.\n",
      "  vectorstore.persist()\n"
     ]
    },
    {
     "name": "stdout",
     "output_type": "stream",
     "text": [
      "calling LLM\n",
      "Ranking response: <think>\n",
      "Okay, so I need to rank these three resumes based on how well they fit the job description for a React Developer position. The job is looking for someone who can design, build, and maintain high-performance and scalable user interfaces using React. \n",
      "\n",
      "First, I'll look at each resume one by one and compare their skills and work experience to the job requirements.\n",
      "\n",
      "Starting with Giulia Rossi. Her skills include HTML, CSS, JavaScript, React, and Responsive Design. She's a Junior Front End Developer and has experience collaborating on a responsive e-commerce site using React. She improved user engagement by 30% and did cross-browser testing. That's good, but she's a junior, so maybe less experience than others.\n",
      "\n",
      "Next, Aditi Sharma. Her skills are HTML, CSS, JavaScript, React.js, Responsive Design, UX/UI Design, and Git. She's a Front End Developer with more experience, having designed interfaces for 10+ web apps. She worked with UX/UI designers and used React.js for reusable components. She also has Git, which is a plus for version control.\n",
      "\n",
      "Then, Emma Dupont. Her skills include React.js, Vue.js, JavaScript, HTML5, CSS3, Responsive Design, Git, and SEO. She's a Front End Developer who developed high-traffic web apps using React and Vue. She optimized code for performance and worked with designers on responsive designs. She also has SEO skills, which might be a bonus but not directly related to React development.\n",
      "\n",
      "Now, comparing all three. The job emphasizes React, high-performance, scalability, and user interfaces. All have React, but Emma also knows Vue, which is a plus for versatility. Aditi has UX/UI design skills, which could be beneficial for user interface work. Giulia is more junior but still has relevant experience.\n",
      "\n",
      "I think Emma might be the most relevant because she has experience with high-traffic apps and code optimization, which ties into high-performance and scalability. Aditi is next because her UX/UI skills directly relate to user interfaces, and she has more experience than Giulia. Giulia is still relevant but less experienced.\n",
      "\n",
      "So the ranking would be Emma first, Aditi second, and Giulia third.\n",
      "</think>\n",
      "\n",
      "Here is the ranking of the resumes based on relevance to the React Developer position:\n",
      "\n",
      "1. **Emma Dupont**  \n",
      "   Email: emma.dupont@example.com  \n",
      "   Skills: React.js, Vue.js, JavaScript, HTML5, CSS3, Responsive Design, Git, SEO  \n",
      "   Work Experience: Developed high-traffic web apps using React and Vue, optimized code for performance, and collaborated on responsive designs.\n",
      "\n",
      "2. **Aditi Sharma**  \n",
      "   Email: aditi.sharma@example.com  \n",
      "   Skills: HTML, CSS, JavaScript, React.js, Responsive Design, UX/UI Design, Git  \n",
      "   Work Experience: Designed user interfaces for multiple web apps, used React for reusable components, and enhanced mobile accessibility.\n",
      "\n",
      "3. **Giulia Rossi**  \n",
      "   Email: giulia.rossi@example.com  \n",
      "   Skills: HTML, CSS, JavaScript, React, Responsive Design  \n",
      "   Work Experience: Collaborated on a responsive e-commerce site, improved user engagement, and conducted cross-browser testing.\n",
      "\n",
      "This ranking reflects their experience with React, performance optimization, and user interface development, with Emma being the most relevant due to her experience with high-traffic apps and code optimization.\n"
     ]
    },
    {
     "name": "stderr",
     "output_type": "stream",
     "text": [
      "Uploading files: 100%|██████████| 1/1 [00:01<00:00,  1.12s/it]\n",
      "Creating extraction jobs: 100%|██████████| 1/1 [00:01<00:00,  1.31s/it]\n",
      "Extracting files: 100%|██████████| 1/1 [00:03<00:00,  3.27s/it]\n"
     ]
    },
    {
     "name": "stdout",
     "output_type": "stream",
     "text": [
      "Email sent successfully to yashstudy02@gmail.com\n"
     ]
    }
   ],
   "source": [
    "res = await chain.ainvoke({\"resumes_dir_path\": \"/Users/yashpatil/Developer/AI/ResumeJDMatcher/data\", \"jd\": \"\"\"Seeking a proficient React Developer to design, build, and maintain high-performance and scalable user interfaces for our modern web applications.\n",
    "\"\"\", \n",
    "\"emails\": email_config\n",
    "})"
   ]
  },
  {
   "cell_type": "code",
   "execution_count": 19,
   "id": "3c304dd2",
   "metadata": {},
   "outputs": [
    {
     "data": {
      "text/plain": [
       "{'resumes_dir_path': '/Users/yashpatil/Developer/AI/ResumeJDMatcher/data',\n",
       " 'jd': 'Seeking a proficient React Developer to design, build, and maintain high-performance and scalable user interfaces for our modern web applications.\\n',\n",
       " 'text_resumes': ['Yash Patil is a skilled professional.\\nEmail: Yashstudy02@gmail.com\\nSkills: JavaScript (ES6+), Node.js, Python, TypeScript, React, Express, MongoDB, Next.js, streamlit, Figma, Canva, Premier Pro, AWS, Netlify, Vercel, RESTful API, Git, Postman, Npm, Stripe, Firebase, Axios, React Router, Agile Experience, Responsive & Mobile-First Design, CI/CD Pipeline using Github\\n\\nWork Experience:\\n- UX Designer and Web Developer Intern at Techwarium from Aug 2024 to Oct 2024.\\n- UX Designer and Web Developer Intern at Techwarium from Dec 2024 to Feb 2024.\\n\\nEducation: B.E. (CSE), AITR, RGPV Bhopal, 2025, 7.1 CGPA; 12th, Shree Vaishnav Academy, CBSE, 2020, 82%; 10th, Shree Vaishnav Academy, CBSE, 2018, 82%\\n\\nProjects:\\n- SpaceWeather: Developed a client application for Swasti Framework. Created UI designs, developed web components, implemented interactive features, and collaborated with a professional web development team.\\n- Lalaverse (Shopping Metaverse): Delivered comprehensive UX and UI design solutions for a shopping metaverse. Designed user experience for app and web, developed Tenant Portal, integrated Stripe payment gateway, and collaborated with a cross-functional team.\\n- Qupe (Dating Application): Spearheaded UX design and development for a dating application. Designed user flows, developed hero web page, onboarding, edit profile, matchmaking settings, ensured Unity-React integration, and collaborated in a team.',\n",
       "  'Catherine Stark is a skilled professional.\\nEmail: catherinestark@email.com\\nSkills: AWS, Python, Java, Ruby, Bash, Kubernetes, Terraform, Cloudformation, Jenkins\\n\\nWork Experience:\\n- AWS DevOps Engineer at S&P Global (April 2019 - current, Birmingham, AL): Created and implemented 4 new DevOps pipelines to deliver Infrastructure as Code; Built workflows to create immutable infrastructure in AWS; Developed 20+ automations for provisioning compute instances and storage; Developed 4 Ansible playbooks and automated the execution of routine Linux scripts; Provisioned resources in AWS using Cloud Formation Templates; Interacted and communicated with 10,000+ global customers, business users, and IT staff.\\n- AWS DevOps Engineer at Jefferson Frank (June 2016 - March 2019, Tuscaloosa, AL): Implemented technical solutions for customer engagements as part of an 8-member team; Helped 500+ customers shape their journey to adopting the cloud, providing customers with technical and strategic support; Consulted, planned, designed, and implemented cloud solutions with 500+ customers; Developed 150+ customer technology roadmaps; Created 2 self-service account frameworks, 1 self-service environment framework, and 1 self-service pipeline framework; Analyzed infrastructure and developed utilization reports, presenting to stakeholders and senior managers.\\n\\nEducation: B.S. Computer Science, University of Alabama, September 2012 - June 2016, Tuscaloosa, AL\\n\\nProjects:',\n",
       "  'Aditi Sharma is a skilled professional.\\nEmail: aditi.sharma@example.com\\nSkills: HTML, CSS, JavaScript, React.js, Responsive Design, UX/UI Design, Git\\n\\nWork Experience:\\n- Front End Developer at TechFusion, Bangalore, India (May 2021 - Present): Designed and developed user interfaces for 10+ web applications, enhancing user engagement by 30%. Collaborated with UX/UI designers to implement responsive design principles, improving mobile accessibility. Utilized React.js to build reusable components, reducing development time by 25%.\\n- Junior Front End Developer at Innovatech Solutions, Hyderabad, India (Jun 2018 - Apr 2021): Assisted in the development of e-commerce websites with a focus on user experience and performance. Implemented SEO best practices, leading to a 40% increase in organic traffic. Worked with cross-functional teams to define and implement new features based on user feedback.\\n\\nEducation: B.Tech in Computer Science, Indian Institute of Technology, Delhi (2014 - 2018). Graduated with honors. Focused on web development and user interface design.\\n\\nProjects:',\n",
       "  'Emma Dupont is a skilled professional.\\nEmail: emma.dupont@example.com\\nSkills: React.js, Vue.js, JavaScript, HTML5, CSS3, Responsive Design, Git, SEO\\n\\nWork Experience:\\n- Front End Developer at TECHSOLUTIONS, Paris, France (Mar 2021 ‑ Present): Developed and maintained multiple high‑traffic web applications using React.js and Vue.js. Improved website performance by 30% through code optimization and efficient asset management. Collaborated with UX/UI designers to implement responsive designs that increased user engagement by 25%.\\n- Junior Front End Developer at WEBINNOVATE, Lyon, France (Jan 2018 ‑ Feb 2021): Assisted in the development of client websites using HTML, CSS, and JavaScript. Participated in the redesign of the company’s website, resulting in a 40% increase in traffic. Implemented best practices for accessibility and SEO, improving overall site usability.\\n\\nEducation: B.S. in Computer Science, UNIVERSITÉ PARIS-SACLAY, Paris, France, 2014-2017. Focused on web development and software engineering methodologies. Completed a capstone project on responsive design principles.\\n\\nProjects:\\n- Capstone project on responsive design principles (as part of B.S. in Computer Science at UNIVERSITÉ PARIS-SACLAY)',\n",
       "  'Giulia Rossi is a skilled professional.\\nEmail: giulia.rossi@example.com\\nSkills: HTML, CSS, JavaScript, React, Responsive Design\\n\\nWork Experience:\\n- Junior Front End Developer at WEBINNOVATE, Milan, Italy (Jun 2022 - Present): Collaborated in a team to develop a responsive e-commerce website, improving user engagement by 30%. Implemented user interface designs using React, enhancing the overall user experience. Conducted cross-browser testing and debugging to ensure compatibility and performance.\\n- Front End Intern at CREATIVE SOLUTIONS, Rome, Italy (Jan 2021 - May 2022): Assisted in developing web applications using HTML, CSS, and JavaScript, contributing to a 15% increase in website traffic. Worked closely with designers to translate visual concepts into functional web pages. Participated in code reviews and contributed to the continuous improvement of coding standards.\\n\\nEducation: B.Sc. in Computer Science, University of Milan, Milan, Italy (2018 - 2021). Focused on web development and programming languages, with projects on responsive web design and user experience.\\n\\nProjects:',\n",
       "  'Bethany Aster is a skilled professional.\\nEmail: b.aster@email.com\\nSkills: PHR Certification, ATS (Workday, Jobvite), Compensation & Benefits, Payroll, Performance Management\\n\\nWork Experience:\\n- Tafapolsky & Smith LLP - HR Generalist (April 2017 - current): Delivered hiring practices utilizing industry data to improve new hire output; spearheaded recruitment program reducing $56K in annual hiring expenses; developed scheduling system with Asana; provided equity, sexual harassment, safety, and ethics training; ensured compliance with all laws.\\n- Lucas Group - HR Generalist (October 2012 - April 2017): Enhanced hiring systems reducing $23K in costs and turnover; monitored work performance boosting productivity by 8%; attended annual HR events; implemented employee recognition program reducing resignations by 12%.\\n- SuperMoss - HR Recruiter (January 2002 - October 2012): Restructured recruiting plans increasing job visibility by 710%; collaborated to create online application systems; enacted college guest-lecture programs increasing interns by 40%; exceeded recruitment targets by 29% in 2011.\\n\\nEducation: University of California Santa Barbara - Bachelor of Arts, Human Resource Management (1993 - 1997)\\n\\nProjects:',\n",
       "  'Kieran Gallagher is a skilled professional.\\nEmail: k.gallagher@email.com\\nSkills: Azure Pipelines, LAMP stack, MySQL, Nagios, GitLab, RESTful APIS in Django, KVM/VZ Virtualization, Terraform, Ansible, Docker, Zend Framework, Azure Monitor, Microsoft Azure, PowerShell, VMware, Trello\\n\\nWork Experience:\\n- Network Administrator at Meijer, Grand Rapids, MI (2020 - current): Automated code building and testing on Azure Pipelines, accelerated deployment of virtual machines using VMware, enhanced website performance by updating Apache to LAMP stack, corrected user code errors, saved costs through VM centralized access, reduced physical nodes using KVM/VZ virtualization.\\n- Software Developer at Dow Chemical Company, Midland, MI (2017 - 2020): Distributed data storage for MySQL servers with Ansible, converted web applications to Zend Framework, boosted server uptime with Nagios, implemented RESTful APIs in Django, collaborated on code refactoring, automated nightly builds for bug alerts.\\n\\nEducation: Bachelor of Science in Computer Science, University of Michigan, 2014 - 2017, Ann Arbor, MI\\n\\nProjects:'],\n",
       " 'matched_resumes': [Document(metadata={'skills': 'html, css, javascript, react, responsive design', 'name': 'Giulia Rossi', 'email': 'giulia.rossi@example.com'}, page_content='Giulia Rossi is a skilled professional.\\nEmail: giulia.rossi@example.com\\nSkills: HTML, CSS, JavaScript, React, Responsive Design\\n\\nWork Experience:\\n- Junior Front End Developer at WEBINNOVATE, Milan, Italy (Jun 2022 - Present): Collaborated in a team to develop a responsive e-commerce website, improving user engagement by 30%. Implemented user interface designs using React, enhancing the overall user experience. Conducted cross-browser testing and debugging to ensure compatibility and performance.\\n- Front End Intern at CREATIVE SOLUTIONS, Rome, Italy (Jan 2021 - May 2022): Assisted in developing web applications using HTML, CSS, and JavaScript, contributing to a 15% increase in website traffic. Worked closely with designers to translate visual concepts into functional web pages. Participated in code reviews and contributed to the continuous improvement of coding standards.\\n\\nEducation: B.Sc. in Computer Science, University of Milan, Milan, Italy (2018 - 2021). Focused on web development and programming languages, with projects on responsive web design and user experience.\\n\\nProjects:'),\n",
       "  Document(metadata={'email': 'aditi.sharma@example.com', 'name': 'Aditi Sharma', 'skills': 'html, css, javascript, react.js, responsive design, ux/ui design, git'}, page_content='Aditi Sharma is a skilled professional.\\nEmail: aditi.sharma@example.com\\nSkills: HTML, CSS, JavaScript, React.js, Responsive Design, UX/UI Design, Git\\n\\nWork Experience:\\n- Front End Developer at TechFusion, Bangalore, India (May 2021 - Present): Designed and developed user interfaces for 10+ web applications, enhancing user engagement by 30%. Collaborated with UX/UI designers to implement responsive design principles, improving mobile accessibility. Utilized React.js to build reusable components, reducing development time by 25%.\\n- Junior Front End Developer at Innovatech Solutions, Hyderabad, India (Jun 2018 - Apr 2021): Assisted in the development of e-commerce websites with a focus on user experience and performance. Implemented SEO best practices, leading to a 40% increase in organic traffic. Worked with cross-functional teams to define and implement new features based on user feedback.\\n\\nEducation: B.Tech in Computer Science, Indian Institute of Technology, Delhi (2014 - 2018). Graduated with honors. Focused on web development and user interface design.\\n\\nProjects:'),\n",
       "  Document(metadata={'email': 'emma.dupont@example.com', 'name': 'Emma Dupont', 'skills': 'react.js, vue.js, javascript, html5, css3, responsive design, git, seo'}, page_content='Emma Dupont is a skilled professional.\\nEmail: emma.dupont@example.com\\nSkills: React.js, Vue.js, JavaScript, HTML5, CSS3, Responsive Design, Git, SEO\\n\\nWork Experience:\\n- Front End Developer at TECHSOLUTIONS, Paris, France (Mar 2021 ‑ Present): Developed and maintained multiple high‑traffic web applications using React.js and Vue.js. Improved website performance by 30% through code optimization and efficient asset management. Collaborated with UX/UI designers to implement responsive designs that increased user engagement by 25%.\\n- Junior Front End Developer at WEBINNOVATE, Lyon, France (Jan 2018 ‑ Feb 2021): Assisted in the development of client websites using HTML, CSS, and JavaScript. Participated in the redesign of the company’s website, resulting in a 40% increase in traffic. Implemented best practices for accessibility and SEO, improving overall site usability.\\n\\nEducation: B.S. in Computer Science, UNIVERSITÉ PARIS-SACLAY, Paris, France, 2014-2017. Focused on web development and software engineering methodologies. Completed a capstone project on responsive design principles.\\n\\nProjects:\\n- Capstone project on responsive design principles (as part of B.S. in Computer Science at UNIVERSITÉ PARIS-SACLAY)')],\n",
       " 'ranked_resumes': [{'name': 'Emma Dupont',\n",
       "   'email': 'emma.dupont@example.com',\n",
       "   'skills': ['React.js',\n",
       "    'Vue.js',\n",
       "    'JavaScript',\n",
       "    'HTML5',\n",
       "    'CSS3',\n",
       "    'Responsive Design',\n",
       "    'Git',\n",
       "    'SEO'],\n",
       "   'work_experience': ['Developed high-traffic web apps using React and Vue',\n",
       "    'Optimized code for performance',\n",
       "    'Collaborated on responsive designs'],\n",
       "   'education': '',\n",
       "   'projects': []},\n",
       "  {'name': 'Aditi Sharma',\n",
       "   'email': 'aditi.sharma@example.com',\n",
       "   'skills': ['HTML',\n",
       "    'CSS',\n",
       "    'JavaScript',\n",
       "    'React.js',\n",
       "    'Responsive Design',\n",
       "    'UX/UI Design',\n",
       "    'Git'],\n",
       "   'work_experience': ['Designed user interfaces for multiple web apps',\n",
       "    'Used React for reusable components',\n",
       "    'Enhanced mobile accessibility'],\n",
       "   'education': '',\n",
       "   'projects': []},\n",
       "  {'name': 'Giulia Rossi',\n",
       "   'email': 'giulia.rossi@example.com',\n",
       "   'skills': ['HTML', 'CSS', 'JavaScript', 'React', 'Responsive Design'],\n",
       "   'work_experience': ['Collaborated on a responsive e-commerce site',\n",
       "    'Improved user engagement',\n",
       "    'Conducted cross-browser testing'],\n",
       "   'education': '',\n",
       "   'projects': []}],\n",
       " 'no_match': False,\n",
       " 'emails': email(ar_requestor='yashstudy02@gmail.com', recruiter='techwariumdev@gmail.com'),\n",
       " 'resume_file_path_mapping': {'Yash Patil': '/Users/yashpatil/Developer/AI/ResumeJDMatcher/data/Yash_long_CV.pdf',\n",
       "  'Catherine Stark': '/Users/yashpatil/Developer/AI/ResumeJDMatcher/data/aws-devops-engineer.pdf',\n",
       "  'Aditi Sharma': '/Users/yashpatil/Developer/AI/ResumeJDMatcher/data/Aditi Sharma-resume.pdf',\n",
       "  'Emma Dupont': '/Users/yashpatil/Developer/AI/ResumeJDMatcher/data/Emma Dupont-resume.pdf',\n",
       "  'Giulia Rossi': '/Users/yashpatil/Developer/AI/ResumeJDMatcher/data/Giulia Rossi-resume.pdf',\n",
       "  'Bethany Aster': '/Users/yashpatil/Developer/AI/ResumeJDMatcher/data/human-resources-generalist-resume.pdf',\n",
       "  'Kieran Gallagher': '/Users/yashpatil/Developer/AI/ResumeJDMatcher/data/azure-devops-2.pdf'}}"
      ]
     },
     "execution_count": 19,
     "metadata": {},
     "output_type": "execute_result"
    }
   ],
   "source": [
    "res"
   ]
  },
  {
   "cell_type": "code",
   "execution_count": 20,
   "id": "4db9f6d0",
   "metadata": {},
   "outputs": [
    {
     "data": {
      "text/plain": [
       "'Emma Dupont'"
      ]
     },
     "execution_count": 20,
     "metadata": {},
     "output_type": "execute_result"
    }
   ],
   "source": [
    "res[\"ranked_resumes\"][0][\"name\"]"
   ]
  },
  {
   "cell_type": "code",
   "execution_count": 21,
   "id": "0ed15f83",
   "metadata": {},
   "outputs": [
    {
     "data": {
      "text/plain": [
       "[Document(metadata={'skills': 'html, css, javascript, react, responsive design', 'name': 'Giulia Rossi', 'email': 'giulia.rossi@example.com'}, page_content='Giulia Rossi is a skilled professional.\\nEmail: giulia.rossi@example.com\\nSkills: HTML, CSS, JavaScript, React, Responsive Design\\n\\nWork Experience:\\n- Junior Front End Developer at WEBINNOVATE, Milan, Italy (Jun 2022 - Present): Collaborated in a team to develop a responsive e-commerce website, improving user engagement by 30%. Implemented user interface designs using React, enhancing the overall user experience. Conducted cross-browser testing and debugging to ensure compatibility and performance.\\n- Front End Intern at CREATIVE SOLUTIONS, Rome, Italy (Jan 2021 - May 2022): Assisted in developing web applications using HTML, CSS, and JavaScript, contributing to a 15% increase in website traffic. Worked closely with designers to translate visual concepts into functional web pages. Participated in code reviews and contributed to the continuous improvement of coding standards.\\n\\nEducation: B.Sc. in Computer Science, University of Milan, Milan, Italy (2018 - 2021). Focused on web development and programming languages, with projects on responsive web design and user experience.\\n\\nProjects:'),\n",
       " Document(metadata={'email': 'aditi.sharma@example.com', 'name': 'Aditi Sharma', 'skills': 'html, css, javascript, react.js, responsive design, ux/ui design, git'}, page_content='Aditi Sharma is a skilled professional.\\nEmail: aditi.sharma@example.com\\nSkills: HTML, CSS, JavaScript, React.js, Responsive Design, UX/UI Design, Git\\n\\nWork Experience:\\n- Front End Developer at TechFusion, Bangalore, India (May 2021 - Present): Designed and developed user interfaces for 10+ web applications, enhancing user engagement by 30%. Collaborated with UX/UI designers to implement responsive design principles, improving mobile accessibility. Utilized React.js to build reusable components, reducing development time by 25%.\\n- Junior Front End Developer at Innovatech Solutions, Hyderabad, India (Jun 2018 - Apr 2021): Assisted in the development of e-commerce websites with a focus on user experience and performance. Implemented SEO best practices, leading to a 40% increase in organic traffic. Worked with cross-functional teams to define and implement new features based on user feedback.\\n\\nEducation: B.Tech in Computer Science, Indian Institute of Technology, Delhi (2014 - 2018). Graduated with honors. Focused on web development and user interface design.\\n\\nProjects:'),\n",
       " Document(metadata={'email': 'emma.dupont@example.com', 'name': 'Emma Dupont', 'skills': 'react.js, vue.js, javascript, html5, css3, responsive design, git, seo'}, page_content='Emma Dupont is a skilled professional.\\nEmail: emma.dupont@example.com\\nSkills: React.js, Vue.js, JavaScript, HTML5, CSS3, Responsive Design, Git, SEO\\n\\nWork Experience:\\n- Front End Developer at TECHSOLUTIONS, Paris, France (Mar 2021 ‑ Present): Developed and maintained multiple high‑traffic web applications using React.js and Vue.js. Improved website performance by 30% through code optimization and efficient asset management. Collaborated with UX/UI designers to implement responsive designs that increased user engagement by 25%.\\n- Junior Front End Developer at WEBINNOVATE, Lyon, France (Jan 2018 ‑ Feb 2021): Assisted in the development of client websites using HTML, CSS, and JavaScript. Participated in the redesign of the company’s website, resulting in a 40% increase in traffic. Implemented best practices for accessibility and SEO, improving overall site usability.\\n\\nEducation: B.S. in Computer Science, UNIVERSITÉ PARIS-SACLAY, Paris, France, 2014-2017. Focused on web development and software engineering methodologies. Completed a capstone project on responsive design principles.\\n\\nProjects:\\n- Capstone project on responsive design principles (as part of B.S. in Computer Science at UNIVERSITÉ PARIS-SACLAY)')]"
      ]
     },
     "execution_count": 21,
     "metadata": {},
     "output_type": "execute_result"
    }
   ],
   "source": [
    "res[\"matched_resumes\"]"
   ]
  },
  {
   "cell_type": "code",
   "execution_count": null,
   "id": "0793fbb9",
   "metadata": {},
   "outputs": [],
   "source": []
  },
  {
   "cell_type": "code",
   "execution_count": null,
   "id": "dd1fecdc",
   "metadata": {},
   "outputs": [],
   "source": []
  },
  {
   "cell_type": "code",
   "execution_count": null,
   "id": "f3843c56",
   "metadata": {},
   "outputs": [],
   "source": []
  },
  {
   "cell_type": "code",
   "execution_count": null,
   "id": "b19e9577",
   "metadata": {},
   "outputs": [],
   "source": []
  },
  {
   "cell_type": "code",
   "execution_count": null,
   "id": "04eeeb8d",
   "metadata": {},
   "outputs": [],
   "source": []
  },
  {
   "cell_type": "code",
   "execution_count": null,
   "id": "392cf6a5",
   "metadata": {},
   "outputs": [],
   "source": []
  }
 ],
 "metadata": {
  "kernelspec": {
   "display_name": "Python 3",
   "language": "python",
   "name": "python3"
  },
  "language_info": {
   "codemirror_mode": {
    "name": "ipython",
    "version": 3
   },
   "file_extension": ".py",
   "mimetype": "text/x-python",
   "name": "python",
   "nbconvert_exporter": "python",
   "pygments_lexer": "ipython3",
   "version": "3.13.5"
  }
 },
 "nbformat": 4,
 "nbformat_minor": 5
}
